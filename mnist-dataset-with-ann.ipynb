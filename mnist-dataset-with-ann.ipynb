{
 "cells": [
  {
   "cell_type": "markdown",
   "id": "66c0c456",
   "metadata": {
    "papermill": {
     "duration": 0.005992,
     "end_time": "2024-05-28T20:20:46.813597",
     "exception": false,
     "start_time": "2024-05-28T20:20:46.807605",
     "status": "completed"
    },
    "tags": []
   },
   "source": [
    "# **Importing Required Libraries**\n",
    "\n",
    "> **numpy (NumPy):** Sayısal işlemler için.\n",
    "\n",
    "> **matplotlib.pyplot:** Grafik ve görselleştirme için.\n",
    "\n",
    "> **keras.layers:** Katmanlar (layers) oluşturmak için.\n",
    "\n",
    "> **keras.models:** Model oluşturmak için.\n",
    "\n",
    "> **tensorflow.keras.utils:** Yardımcı fonksiyonlar için, burada to_categorical fonksiyonu kullanılıyor.\n",
    "\n",
    "> **keras.datasets:** MNIST veri setini yüklemek için."
   ]
  },
  {
   "cell_type": "code",
   "execution_count": 1,
   "id": "bdc8a321",
   "metadata": {
    "execution": {
     "iopub.execute_input": "2024-05-28T20:20:46.826081Z",
     "iopub.status.busy": "2024-05-28T20:20:46.825585Z",
     "iopub.status.idle": "2024-05-28T20:21:01.680642Z",
     "shell.execute_reply": "2024-05-28T20:21:01.679400Z"
    },
    "papermill": {
     "duration": 14.864469,
     "end_time": "2024-05-28T20:21:01.683611",
     "exception": false,
     "start_time": "2024-05-28T20:20:46.819142",
     "status": "completed"
    },
    "tags": []
   },
   "outputs": [
    {
     "name": "stderr",
     "output_type": "stream",
     "text": [
      "2024-05-28 20:20:48.981091: E external/local_xla/xla/stream_executor/cuda/cuda_dnn.cc:9261] Unable to register cuDNN factory: Attempting to register factory for plugin cuDNN when one has already been registered\n",
      "2024-05-28 20:20:48.981234: E external/local_xla/xla/stream_executor/cuda/cuda_fft.cc:607] Unable to register cuFFT factory: Attempting to register factory for plugin cuFFT when one has already been registered\n",
      "2024-05-28 20:20:49.134967: E external/local_xla/xla/stream_executor/cuda/cuda_blas.cc:1515] Unable to register cuBLAS factory: Attempting to register factory for plugin cuBLAS when one has already been registered\n"
     ]
    }
   ],
   "source": [
    "#Gerekli Kütüphanelerin İçe Aktarılması\n",
    "import numpy as np\n",
    "import matplotlib.pyplot as plt\n",
    "from keras.layers import Dense, Flatten\n",
    "from keras.models import Sequential\n",
    "from tensorflow.keras.utils import to_categorical\n",
    "from keras.datasets import mnist"
   ]
  },
  {
   "cell_type": "markdown",
   "id": "7c93bb40",
   "metadata": {
    "papermill": {
     "duration": 0.004831,
     "end_time": "2024-05-28T20:21:01.693871",
     "exception": false,
     "start_time": "2024-05-28T20:21:01.689040",
     "status": "completed"
    },
    "tags": []
   },
   "source": [
    "# **Loading the MNIST Dataset**\n",
    "\n",
    "> **MNIST veri seti**, keras.datasets.mnist modülünden yükleniyor. Bu veri seti el yazısı rakamların görüntülerini içerir.\n",
    "\n",
    "> **X_train:** Eğitim veri setindeki görüntüler.\n",
    "> \n",
    "> **y_train:** Eğitim veri setindeki etiketler (rakamlar).\n",
    "> \n",
    "> **X_test:** Test veri setindeki görüntüler.\n",
    "> \n",
    "> **y_test**: Test veri setindeki etiketler.\n",
    "\n",
    "> **X_train.shape:** Eğitim veri setindeki görüntülerin boyutları. (60000, 28, 28) - 60.000 adet 28x28 piksel görüntü.\n",
    "> \n",
    "> **X_test.shape:** Test veri setindeki görüntülerin boyutları. (10000, 28, 28) - 10.000 adet 28x28 piksel görüntü.\n"
   ]
  },
  {
   "cell_type": "code",
   "execution_count": 2,
   "id": "c97f74c7",
   "metadata": {
    "execution": {
     "iopub.execute_input": "2024-05-28T20:21:01.706318Z",
     "iopub.status.busy": "2024-05-28T20:21:01.705540Z",
     "iopub.status.idle": "2024-05-28T20:21:04.348905Z",
     "shell.execute_reply": "2024-05-28T20:21:04.347371Z"
    },
    "papermill": {
     "duration": 2.652831,
     "end_time": "2024-05-28T20:21:04.351895",
     "exception": false,
     "start_time": "2024-05-28T20:21:01.699064",
     "status": "completed"
    },
    "tags": []
   },
   "outputs": [
    {
     "name": "stdout",
     "output_type": "stream",
     "text": [
      "Downloading data from https://storage.googleapis.com/tensorflow/tf-keras-datasets/mnist.npz\n",
      "\u001b[1m11490434/11490434\u001b[0m \u001b[32m━━━━━━━━━━━━━━━━━━━━\u001b[0m\u001b[37m\u001b[0m \u001b[1m1s\u001b[0m 0us/step\n",
      "(60000, 28, 28)\n",
      "(10000, 28, 28)\n"
     ]
    }
   ],
   "source": [
    "#MNIST Veri Setinin Yüklenmesi\n",
    "(X_train, y_train), (X_test, y_test) = mnist.load_data()\n",
    "#Veri setinin boyutları yazdırılıyor\n",
    "print(X_train.shape)\n",
    "print(X_test.shape)"
   ]
  },
  {
   "cell_type": "markdown",
   "id": "3e9ea75c",
   "metadata": {
    "papermill": {
     "duration": 0.007219,
     "end_time": "2024-05-28T20:21:04.367062",
     "exception": false,
     "start_time": "2024-05-28T20:21:04.359843",
     "status": "completed"
    },
    "tags": []
   },
   "source": [
    "# **Converting Tags to One-Hot Encoding Format**\n",
    "\n",
    "> Etiketler one-hot encoding formatına dönüştürülüyor. **One-hot encoding**, her sınıfı (rakamı) bir **vektör** olarak temsil eder. Örneğin, 3 rakamı [0, 0, 0, 1, 0, 0, 0, 0, 0, 0] şeklinde temsil edilir.\n",
    "\n",
    "> **to_categorical:** Kategori etiketlerini one-hot formatına dönüştüren fonksiyon. Bu dönüşüm, modelin çıktısını *karşılaştırmak* için gereklidir."
   ]
  },
  {
   "cell_type": "code",
   "execution_count": 3,
   "id": "79474549",
   "metadata": {
    "execution": {
     "iopub.execute_input": "2024-05-28T20:21:04.385039Z",
     "iopub.status.busy": "2024-05-28T20:21:04.383809Z",
     "iopub.status.idle": "2024-05-28T20:21:07.002348Z",
     "shell.execute_reply": "2024-05-28T20:21:07.001229Z"
    },
    "papermill": {
     "duration": 2.630728,
     "end_time": "2024-05-28T20:21:07.005436",
     "exception": false,
     "start_time": "2024-05-28T20:21:04.374708",
     "status": "completed"
    },
    "tags": []
   },
   "outputs": [],
   "source": [
    "#Etiketlerin One-Hot Encoding Formatına Dönüştürülmesi\n",
    "temp = []\n",
    "\n",
    "for i in range(len(y_train)):\n",
    "    temp.append(to_categorical(y_train[i], num_classes=10))\n",
    "y_train = np.array(temp)\n",
    "# Convert y_test into one-hot format\n",
    "temp = []\n",
    "for i in range(len(y_test)):    \n",
    "    temp.append(to_categorical(y_test[i], num_classes=10))\n",
    "y_test = np.array(temp)"
   ]
  },
  {
   "cell_type": "markdown",
   "id": "2714ef17",
   "metadata": {
    "papermill": {
     "duration": 0.008142,
     "end_time": "2024-05-28T20:21:07.022546",
     "exception": false,
     "start_time": "2024-05-28T20:21:07.014404",
     "status": "completed"
    },
    "tags": []
   },
   "source": [
    "# **Creating the Model**\n",
    "\n",
    "> Bu kısımda bir sinir ağı modeli oluşturuluyor:\n",
    "\n",
    "> **Sequential:** Modeli katman katman oluşturmak için kullanılan model türü.\n",
    "> \n",
    "> **Flatten:** 28x28 piksel görüntüyü 784 boyutlu bir vektöre dönüştürür.\n",
    "> \n",
    "> **Dense:** Yoğun (fully connected) katmanlar eklenir.\n",
    "> \n",
    "> **İlk Dense katman:** 16 nöron ve sigmoid aktivasyon fonksiyonu kullanır.\n",
    "> \n",
    "> **İkinci Dense katman:** 10 nöron ve softmax aktivasyon fonksiyonu kullanır. Bu, 10 sınıf (rakam) için olasılık dağılımı verir.\n",
    "> \n",
    "> **model.summary():** Modelin özetini yazdırır."
   ]
  },
  {
   "cell_type": "code",
   "execution_count": 4,
   "id": "155c55a6",
   "metadata": {
    "execution": {
     "iopub.execute_input": "2024-05-28T20:21:07.040608Z",
     "iopub.status.busy": "2024-05-28T20:21:07.040175Z",
     "iopub.status.idle": "2024-05-28T20:21:07.164795Z",
     "shell.execute_reply": "2024-05-28T20:21:07.163708Z"
    },
    "papermill": {
     "duration": 0.13637,
     "end_time": "2024-05-28T20:21:07.167381",
     "exception": false,
     "start_time": "2024-05-28T20:21:07.031011",
     "status": "completed"
    },
    "tags": []
   },
   "outputs": [
    {
     "name": "stderr",
     "output_type": "stream",
     "text": [
      "/opt/conda/lib/python3.10/site-packages/keras/src/layers/reshaping/flatten.py:37: UserWarning: Do not pass an `input_shape`/`input_dim` argument to a layer. When using Sequential models, prefer using an `Input(shape)` object as the first layer in the model instead.\n",
      "  super().__init__(**kwargs)\n"
     ]
    },
    {
     "data": {
      "text/html": [
       "<pre style=\"white-space:pre;overflow-x:auto;line-height:normal;font-family:Menlo,'DejaVu Sans Mono',consolas,'Courier New',monospace\"><span style=\"font-weight: bold\">Model: \"sequential\"</span>\n",
       "</pre>\n"
      ],
      "text/plain": [
       "\u001b[1mModel: \"sequential\"\u001b[0m\n"
      ]
     },
     "metadata": {},
     "output_type": "display_data"
    },
    {
     "data": {
      "text/html": [
       "<pre style=\"white-space:pre;overflow-x:auto;line-height:normal;font-family:Menlo,'DejaVu Sans Mono',consolas,'Courier New',monospace\">┏━━━━━━━━━━━━━━━━━━━━━━━━━━━━━━━━━┳━━━━━━━━━━━━━━━━━━━━━━━━┳━━━━━━━━━━━━━━━┓\n",
       "┃<span style=\"font-weight: bold\"> Layer (type)                    </span>┃<span style=\"font-weight: bold\"> Output Shape           </span>┃<span style=\"font-weight: bold\">       Param # </span>┃\n",
       "┡━━━━━━━━━━━━━━━━━━━━━━━━━━━━━━━━━╇━━━━━━━━━━━━━━━━━━━━━━━━╇━━━━━━━━━━━━━━━┩\n",
       "│ flatten (<span style=\"color: #0087ff; text-decoration-color: #0087ff\">Flatten</span>)               │ (<span style=\"color: #00d7ff; text-decoration-color: #00d7ff\">None</span>, <span style=\"color: #00af00; text-decoration-color: #00af00\">784</span>)            │             <span style=\"color: #00af00; text-decoration-color: #00af00\">0</span> │\n",
       "├─────────────────────────────────┼────────────────────────┼───────────────┤\n",
       "│ dense (<span style=\"color: #0087ff; text-decoration-color: #0087ff\">Dense</span>)                   │ (<span style=\"color: #00d7ff; text-decoration-color: #00d7ff\">None</span>, <span style=\"color: #00af00; text-decoration-color: #00af00\">16</span>)             │        <span style=\"color: #00af00; text-decoration-color: #00af00\">12,560</span> │\n",
       "├─────────────────────────────────┼────────────────────────┼───────────────┤\n",
       "│ dense_1 (<span style=\"color: #0087ff; text-decoration-color: #0087ff\">Dense</span>)                 │ (<span style=\"color: #00d7ff; text-decoration-color: #00d7ff\">None</span>, <span style=\"color: #00af00; text-decoration-color: #00af00\">10</span>)             │           <span style=\"color: #00af00; text-decoration-color: #00af00\">170</span> │\n",
       "└─────────────────────────────────┴────────────────────────┴───────────────┘\n",
       "</pre>\n"
      ],
      "text/plain": [
       "┏━━━━━━━━━━━━━━━━━━━━━━━━━━━━━━━━━┳━━━━━━━━━━━━━━━━━━━━━━━━┳━━━━━━━━━━━━━━━┓\n",
       "┃\u001b[1m \u001b[0m\u001b[1mLayer (type)                   \u001b[0m\u001b[1m \u001b[0m┃\u001b[1m \u001b[0m\u001b[1mOutput Shape          \u001b[0m\u001b[1m \u001b[0m┃\u001b[1m \u001b[0m\u001b[1m      Param #\u001b[0m\u001b[1m \u001b[0m┃\n",
       "┡━━━━━━━━━━━━━━━━━━━━━━━━━━━━━━━━━╇━━━━━━━━━━━━━━━━━━━━━━━━╇━━━━━━━━━━━━━━━┩\n",
       "│ flatten (\u001b[38;5;33mFlatten\u001b[0m)               │ (\u001b[38;5;45mNone\u001b[0m, \u001b[38;5;34m784\u001b[0m)            │             \u001b[38;5;34m0\u001b[0m │\n",
       "├─────────────────────────────────┼────────────────────────┼───────────────┤\n",
       "│ dense (\u001b[38;5;33mDense\u001b[0m)                   │ (\u001b[38;5;45mNone\u001b[0m, \u001b[38;5;34m16\u001b[0m)             │        \u001b[38;5;34m12,560\u001b[0m │\n",
       "├─────────────────────────────────┼────────────────────────┼───────────────┤\n",
       "│ dense_1 (\u001b[38;5;33mDense\u001b[0m)                 │ (\u001b[38;5;45mNone\u001b[0m, \u001b[38;5;34m10\u001b[0m)             │           \u001b[38;5;34m170\u001b[0m │\n",
       "└─────────────────────────────────┴────────────────────────┴───────────────┘\n"
      ]
     },
     "metadata": {},
     "output_type": "display_data"
    },
    {
     "data": {
      "text/html": [
       "<pre style=\"white-space:pre;overflow-x:auto;line-height:normal;font-family:Menlo,'DejaVu Sans Mono',consolas,'Courier New',monospace\"><span style=\"font-weight: bold\"> Total params: </span><span style=\"color: #00af00; text-decoration-color: #00af00\">12,730</span> (49.73 KB)\n",
       "</pre>\n"
      ],
      "text/plain": [
       "\u001b[1m Total params: \u001b[0m\u001b[38;5;34m12,730\u001b[0m (49.73 KB)\n"
      ]
     },
     "metadata": {},
     "output_type": "display_data"
    },
    {
     "data": {
      "text/html": [
       "<pre style=\"white-space:pre;overflow-x:auto;line-height:normal;font-family:Menlo,'DejaVu Sans Mono',consolas,'Courier New',monospace\"><span style=\"font-weight: bold\"> Trainable params: </span><span style=\"color: #00af00; text-decoration-color: #00af00\">12,730</span> (49.73 KB)\n",
       "</pre>\n"
      ],
      "text/plain": [
       "\u001b[1m Trainable params: \u001b[0m\u001b[38;5;34m12,730\u001b[0m (49.73 KB)\n"
      ]
     },
     "metadata": {},
     "output_type": "display_data"
    },
    {
     "data": {
      "text/html": [
       "<pre style=\"white-space:pre;overflow-x:auto;line-height:normal;font-family:Menlo,'DejaVu Sans Mono',consolas,'Courier New',monospace\"><span style=\"font-weight: bold\"> Non-trainable params: </span><span style=\"color: #00af00; text-decoration-color: #00af00\">0</span> (0.00 B)\n",
       "</pre>\n"
      ],
      "text/plain": [
       "\u001b[1m Non-trainable params: \u001b[0m\u001b[38;5;34m0\u001b[0m (0.00 B)\n"
      ]
     },
     "metadata": {},
     "output_type": "display_data"
    }
   ],
   "source": [
    "#Modelin Oluşturulması\n",
    "model = Sequential()\n",
    "model.add(Flatten(input_shape=(28,28)))\n",
    "model.add(Dense(16, activation='sigmoid'))\n",
    "model.add(Dense(10, activation='softmax'))\n",
    "model.summary()"
   ]
  },
  {
   "cell_type": "markdown",
   "id": "4f0d4cd9",
   "metadata": {
    "papermill": {
     "duration": 0.008549,
     "end_time": "2024-05-28T20:21:07.185125",
     "exception": false,
     "start_time": "2024-05-28T20:21:07.176576",
     "status": "completed"
    },
    "tags": []
   },
   "source": [
    "# **Compiling the Model**\n",
    "\n",
    "> **loss='categorical_crossentropy':** Çok sınıflı sınıflandırma problemleri için kayıp fonksiyonu.\n",
    "> \n",
    "> **optimizer='adam':** Adam optimizasyon algoritması.\n",
    "> \n",
    "> **metrics=['acc']:** Eğitim sırasında takip edilecek metrik, burada doğruluk (accuracy)."
   ]
  },
  {
   "cell_type": "code",
   "execution_count": 5,
   "id": "38eaa6d8",
   "metadata": {
    "execution": {
     "iopub.execute_input": "2024-05-28T20:21:07.204587Z",
     "iopub.status.busy": "2024-05-28T20:21:07.204177Z",
     "iopub.status.idle": "2024-05-28T20:21:07.221226Z",
     "shell.execute_reply": "2024-05-28T20:21:07.220111Z"
    },
    "papermill": {
     "duration": 0.030399,
     "end_time": "2024-05-28T20:21:07.224331",
     "exception": false,
     "start_time": "2024-05-28T20:21:07.193932",
     "status": "completed"
    },
    "tags": []
   },
   "outputs": [],
   "source": [
    "#Modelin Derlenmesi\n",
    "model.compile(loss='categorical_crossentropy', \n",
    "              optimizer='adam',\n",
    "              metrics=['acc'])"
   ]
  },
  {
   "cell_type": "markdown",
   "id": "7330a966",
   "metadata": {
    "papermill": {
     "duration": 0.008501,
     "end_time": "2024-05-28T20:21:07.241812",
     "exception": false,
     "start_time": "2024-05-28T20:21:07.233311",
     "status": "completed"
    },
    "tags": []
   },
   "source": [
    "# **Training the Model**\n",
    "\n",
    "> **X_train, y_train:** Eğitim veri seti ve etiketleri.\n",
    "> \n",
    "> **epochs=15:** Eğitim 15 dönem boyunca yapılacak.\n",
    "> \n",
    "> **validation_data=(X_test, y_test):** Doğrulama veri seti ve etiketleri."
   ]
  },
  {
   "cell_type": "code",
   "execution_count": 6,
   "id": "fc1501c5",
   "metadata": {
    "execution": {
     "iopub.execute_input": "2024-05-28T20:21:07.262786Z",
     "iopub.status.busy": "2024-05-28T20:21:07.262325Z",
     "iopub.status.idle": "2024-05-28T20:22:00.235141Z",
     "shell.execute_reply": "2024-05-28T20:22:00.234041Z"
    },
    "papermill": {
     "duration": 52.987496,
     "end_time": "2024-05-28T20:22:00.238144",
     "exception": false,
     "start_time": "2024-05-28T20:21:07.250648",
     "status": "completed"
    },
    "tags": []
   },
   "outputs": [
    {
     "name": "stdout",
     "output_type": "stream",
     "text": [
      "Epoch 1/15\n",
      "\u001b[1m1875/1875\u001b[0m \u001b[32m━━━━━━━━━━━━━━━━━━━━\u001b[0m\u001b[37m\u001b[0m \u001b[1m5s\u001b[0m 2ms/step - acc: 0.5653 - loss: 1.4694 - val_acc: 0.8124 - val_loss: 0.6585\n",
      "Epoch 2/15\n",
      "\u001b[1m1875/1875\u001b[0m \u001b[32m━━━━━━━━━━━━━━━━━━━━\u001b[0m\u001b[37m\u001b[0m \u001b[1m3s\u001b[0m 2ms/step - acc: 0.8220 - loss: 0.6230 - val_acc: 0.8366 - val_loss: 0.5367\n",
      "Epoch 3/15\n",
      "\u001b[1m1875/1875\u001b[0m \u001b[32m━━━━━━━━━━━━━━━━━━━━\u001b[0m\u001b[37m\u001b[0m \u001b[1m3s\u001b[0m 2ms/step - acc: 0.8343 - loss: 0.5396 - val_acc: 0.8536 - val_loss: 0.4898\n",
      "Epoch 4/15\n",
      "\u001b[1m1875/1875\u001b[0m \u001b[32m━━━━━━━━━━━━━━━━━━━━\u001b[0m\u001b[37m\u001b[0m \u001b[1m3s\u001b[0m 2ms/step - acc: 0.8485 - loss: 0.5010 - val_acc: 0.8572 - val_loss: 0.4668\n",
      "Epoch 5/15\n",
      "\u001b[1m1875/1875\u001b[0m \u001b[32m━━━━━━━━━━━━━━━━━━━━\u001b[0m\u001b[37m\u001b[0m \u001b[1m3s\u001b[0m 2ms/step - acc: 0.8511 - loss: 0.4810 - val_acc: 0.8618 - val_loss: 0.4626\n",
      "Epoch 6/15\n",
      "\u001b[1m1875/1875\u001b[0m \u001b[32m━━━━━━━━━━━━━━━━━━━━\u001b[0m\u001b[37m\u001b[0m \u001b[1m3s\u001b[0m 2ms/step - acc: 0.8620 - loss: 0.4527 - val_acc: 0.8788 - val_loss: 0.4136\n",
      "Epoch 7/15\n",
      "\u001b[1m1875/1875\u001b[0m \u001b[32m━━━━━━━━━━━━━━━━━━━━\u001b[0m\u001b[37m\u001b[0m \u001b[1m3s\u001b[0m 2ms/step - acc: 0.8608 - loss: 0.4549 - val_acc: 0.8669 - val_loss: 0.4376\n",
      "Epoch 8/15\n",
      "\u001b[1m1875/1875\u001b[0m \u001b[32m━━━━━━━━━━━━━━━━━━━━\u001b[0m\u001b[37m\u001b[0m \u001b[1m4s\u001b[0m 2ms/step - acc: 0.8685 - loss: 0.4333 - val_acc: 0.8750 - val_loss: 0.4200\n",
      "Epoch 9/15\n",
      "\u001b[1m1875/1875\u001b[0m \u001b[32m━━━━━━━━━━━━━━━━━━━━\u001b[0m\u001b[37m\u001b[0m \u001b[1m4s\u001b[0m 2ms/step - acc: 0.8735 - loss: 0.4170 - val_acc: 0.8766 - val_loss: 0.4101\n",
      "Epoch 10/15\n",
      "\u001b[1m1875/1875\u001b[0m \u001b[32m━━━━━━━━━━━━━━━━━━━━\u001b[0m\u001b[37m\u001b[0m \u001b[1m3s\u001b[0m 2ms/step - acc: 0.8688 - loss: 0.4312 - val_acc: 0.8744 - val_loss: 0.4086\n",
      "Epoch 11/15\n",
      "\u001b[1m1875/1875\u001b[0m \u001b[32m━━━━━━━━━━━━━━━━━━━━\u001b[0m\u001b[37m\u001b[0m \u001b[1m3s\u001b[0m 2ms/step - acc: 0.8677 - loss: 0.4248 - val_acc: 0.8754 - val_loss: 0.4059\n",
      "Epoch 12/15\n",
      "\u001b[1m1875/1875\u001b[0m \u001b[32m━━━━━━━━━━━━━━━━━━━━\u001b[0m\u001b[37m\u001b[0m \u001b[1m3s\u001b[0m 2ms/step - acc: 0.8762 - loss: 0.4162 - val_acc: 0.8770 - val_loss: 0.4107\n",
      "Epoch 13/15\n",
      "\u001b[1m1875/1875\u001b[0m \u001b[32m━━━━━━━━━━━━━━━━━━━━\u001b[0m\u001b[37m\u001b[0m \u001b[1m3s\u001b[0m 2ms/step - acc: 0.8707 - loss: 0.4274 - val_acc: 0.8862 - val_loss: 0.3936\n",
      "Epoch 14/15\n",
      "\u001b[1m1875/1875\u001b[0m \u001b[32m━━━━━━━━━━━━━━━━━━━━\u001b[0m\u001b[37m\u001b[0m \u001b[1m3s\u001b[0m 2ms/step - acc: 0.8804 - loss: 0.4038 - val_acc: 0.8845 - val_loss: 0.3938\n",
      "Epoch 15/15\n",
      "\u001b[1m1875/1875\u001b[0m \u001b[32m━━━━━━━━━━━━━━━━━━━━\u001b[0m\u001b[37m\u001b[0m \u001b[1m3s\u001b[0m 2ms/step - acc: 0.8769 - loss: 0.4134 - val_acc: 0.8918 - val_loss: 0.3838\n"
     ]
    },
    {
     "data": {
      "text/plain": [
       "<keras.src.callbacks.history.History at 0x7c879396b0d0>"
      ]
     },
     "execution_count": 6,
     "metadata": {},
     "output_type": "execute_result"
    }
   ],
   "source": [
    "#Modelin Eğitilmesi\n",
    "model.fit(X_train, y_train, epochs=15, \n",
    "          validation_data=(X_test,y_test))"
   ]
  },
  {
   "cell_type": "markdown",
   "id": "f131de36",
   "metadata": {
    "papermill": {
     "duration": 0.097309,
     "end_time": "2024-05-28T20:22:00.433506",
     "exception": false,
     "start_time": "2024-05-28T20:22:00.336197",
     "status": "completed"
    },
    "tags": []
   },
   "source": [
    "# **Making Predictions and Visualization**\n",
    "\n",
    "> **model.predict(X_test):** Test veri setindeki her bir görüntü için olasılık tahminleri yapar.\n",
    "> \n",
    "> **np.argmax(predictions, axis=1):** En yüksek olasılığa sahip sınıf (rakam) etiketi bulunur."
   ]
  },
  {
   "cell_type": "code",
   "execution_count": 7,
   "id": "aec17869",
   "metadata": {
    "execution": {
     "iopub.execute_input": "2024-05-28T20:22:00.634296Z",
     "iopub.status.busy": "2024-05-28T20:22:00.633851Z",
     "iopub.status.idle": "2024-05-28T20:22:01.338389Z",
     "shell.execute_reply": "2024-05-28T20:22:01.337099Z"
    },
    "papermill": {
     "duration": 0.806706,
     "end_time": "2024-05-28T20:22:01.341533",
     "exception": false,
     "start_time": "2024-05-28T20:22:00.534827",
     "status": "completed"
    },
    "tags": []
   },
   "outputs": [
    {
     "name": "stdout",
     "output_type": "stream",
     "text": [
      "\u001b[1m313/313\u001b[0m \u001b[32m━━━━━━━━━━━━━━━━━━━━\u001b[0m\u001b[37m\u001b[0m \u001b[1m0s\u001b[0m 1ms/step\n"
     ]
    }
   ],
   "source": [
    "#Tahminlerin Yapılması ve Görselleştirme\n",
    "predictions = model.predict(X_test)\n",
    "predictions = np.argmax(predictions, axis=1)"
   ]
  },
  {
   "cell_type": "markdown",
   "id": "f81dab7b",
   "metadata": {
    "papermill": {
     "duration": 0.100443,
     "end_time": "2024-05-28T20:22:01.545920",
     "exception": false,
     "start_time": "2024-05-28T20:22:01.445477",
     "status": "completed"
    },
    "tags": []
   },
   "source": [
    "# **Visualization of Predictions**\n",
    "\n",
    "> **plt.subplots(ncols=10, sharex=False, sharey=True, figsize=(20, 4)):** 10 kolonlu bir grafik oluşturur.\n",
    "> \n",
    "> **axes[i].set_title(predictions[i]):** Her bir alt grafik için tahmin edilen etiketi başlık olarak ayarlar.\n",
    "> \n",
    "> **axes[i].imshow(X_test[i], cmap='gray'):** Görüntüyü gri tonlamalı olarak gösterir.\n",
    "> \n",
    "> **axes[i].get_xaxis().set_visible(False), axes[i].get_yaxis().set_visible(False):** X ve Y eksenlerini gizler."
   ]
  },
  {
   "cell_type": "code",
   "execution_count": 8,
   "id": "5161fe3b",
   "metadata": {
    "_cell_guid": "b1076dfc-b9ad-4769-8c92-a6c4dae69d19",
    "_uuid": "8f2839f25d086af736a60e9eeb907d3b93b6e0e5",
    "execution": {
     "iopub.execute_input": "2024-05-28T20:22:01.811641Z",
     "iopub.status.busy": "2024-05-28T20:22:01.810546Z",
     "iopub.status.idle": "2024-05-28T20:22:02.279616Z",
     "shell.execute_reply": "2024-05-28T20:22:02.278404Z"
    },
    "papermill": {
     "duration": 0.572848,
     "end_time": "2024-05-28T20:22:02.282409",
     "exception": false,
     "start_time": "2024-05-28T20:22:01.709561",
     "status": "completed"
    },
    "tags": []
   },
   "outputs": [
    {
     "data": {
      "image/png": "[encoded data removed]",
      "text/plain": [
       "<Figure size 2000x400 with 10 Axes>"
      ]
     },
     "metadata": {},
     "output_type": "display_data"
    }
   ],
   "source": [
    "#Tahminlerin Görselleştirilmesi\n",
    "fig, axes = plt.subplots(ncols=10, sharex=False,\n",
    "                         sharey=True, figsize=(20, 4))\n",
    "for i in range(10):\n",
    "    axes[i].set_title(predictions[i])\n",
    "    axes[i].imshow(X_test[i], cmap='gray')\n",
    "    axes[i].get_xaxis().set_visible(False)\n",
    "    axes[i].get_yaxis().set_visible(False)\n",
    "plt.show()"
   ]
  }
 ],
 "metadata": {
  "kaggle": {
   "accelerator": "none",
   "dataSources": [],
   "isGpuEnabled": false,
   "isInternetEnabled": true,
   "language": "python",
   "sourceType": "notebook"
  },
  "kernelspec": {
   "display_name": "Python 3",
   "language": "python",
   "name": "python3"
  },
  "language_info": {
   "codemirror_mode": {
    "name": "ipython",
    "version": 3
   },
   "file_extension": ".py",
   "mimetype": "text/x-python",
   "name": "python",
   "nbconvert_exporter": "python",
   "pygments_lexer": "ipython3",
   "version": "3.10.13"
  },
  "papermill": {
   "default_parameters": {},
   "duration": 81.196999,
   "end_time": "2024-05-28T20:22:04.907963",
   "environment_variables": {},
   "exception": null,
   "input_path": "__notebook__.ipynb",
   "output_path": "__notebook__.ipynb",
   "parameters": {},
   "start_time": "2024-05-28T20:20:43.710964",
   "version": "2.5.0"
  }
 },
 "nbformat": 4,
 "nbformat_minor": 5
}
